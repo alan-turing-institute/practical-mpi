{
 "cells": [
  {
   "cell_type": "code",
   "execution_count": null,
   "id": "c4bfcca8-b1e2-4449-9973-d2442ffec850",
   "metadata": {},
   "outputs": [],
   "source": [
    "!git diff --no-index  train_gpt2_ddp.py train_gpt2_lightning.py"
   ]
  },
  {
   "cell_type": "code",
   "execution_count": null,
   "id": "208d1612-f496-4d14-a95b-1065566cbec2",
   "metadata": {},
   "outputs": [],
   "source": []
  }
 ],
 "metadata": {
  "kernelspec": {
   "display_name": "Python",
   "language": "python",
   "name": "sys_python"
  },
  "language_info": {
   "codemirror_mode": {
    "name": "ipython",
    "version": 3
   },
   "file_extension": ".py",
   "mimetype": "text/x-python",
   "name": "python",
   "nbconvert_exporter": "python",
   "pygments_lexer": "ipython3",
   "version": "3.11.3"
  }
 },
 "nbformat": 4,
 "nbformat_minor": 5
}
